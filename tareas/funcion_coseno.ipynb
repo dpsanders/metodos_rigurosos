{
 "metadata": {
  "name": "funcion_coseno"
 },
 "nbformat": 3,
 "nbformat_minor": 0,
 "worksheets": [
  {
   "cells": [
    {
     "cell_type": "heading",
     "level": 2,
     "metadata": {},
     "source": [
      "Construcci\u00f3n de la funci\u00f3n coseno para Intervalos"
     ]
    },
    {
     "cell_type": "markdown",
     "metadata": {},
     "source": [
      " Sea $x:=[a,b]$, la construcci\u00f3n de esta funci\u00f3n consiste en dos casos:\n",
      "\n",
      "**Caso 1.** Si la distancia $b-a \\ge 2\\pi$.\n",
      "\n",
      "Entonces la definici\u00f3n es muy sencilla, pues el intervalo $x$ debe contener dos m\u00faltipos de $\\pi$, por lo que necesariamente en este intervalo debemos definir $\\cos{x}:=[-1,1]$\n",
      "\n",
      "**Caso 2.** Si la distancia $b-a < 2\\pi$.\n",
      "\n",
      "Entonces, en este caso, tenemos que notar lo siguiente,\n",
      "\n",
      "Si $k_{0}$ es el mayor entero tal que $k_{0}\\le\\frac{a}{2\\pi}$ (es decir la parte entera del n\u00famero $\\frac{a}{2\\pi}$), entonces, $k_{0}$ es el mayor entero tal que $2\\pi k_{0}\\le a$ y por lo tanto, el \u00edntervalo $([a,b] - 2\\pi k_{0})$ es un intervalo contenido en el intervalo $[0,4\\pi]$, pues $b-a < 2\\pi$.\n",
      "\n",
      "Con esto, al ser peri\u00f3dica la funci\u00f3n coseno, podemos reducir el an\u00e1lisis al caso en que los intervalos est\u00e1n contenidos en $[0,4\\pi]$. As\u00ed pues, sin p\u00e9rdida de generalidad, supongamos que $x$ est\u00e1 contenido en $[0,4\\pi]$, definimos la funci\u00f3n $cos(x)$ como sigue:\n",
      "\n",
      "1   Si $b < \\pi$.\n",
      "\n",
      "Entonces, la funci\u00f3n coseno es decreciente en ese intervalo y entonces regresamos: $[cos(b), cos(a)]$.\n",
      "\n",
      "2   Si $a \\le \\pi \\le b \\le 2\\pi$.\n",
      "\n",
      "Entonces, este intervalo contiene a $\\pi$ y por lo tanto regresamos: $[-1, max[cos(a),cos(b)]]$.\n",
      "\n",
      "3   Si $a \\le \\pi \\le 2\\pi \\le b$.\n",
      "\n",
      "Entonces, este intervalo contiene a $\\pi$ y a $2\\pi$ y por lo tanto regresamos: $[-1,1]$.\n",
      "\n",
      "4   Si $\\pi \\le a \\le b \\le 2\\pi$.\n",
      "\n",
      "Entonces, la funci\u00f3n coseno es creciente en este intervalo y as\u00ed pues regresamos: $[cos(a), cos(b)]$.\n",
      "\n",
      "5   Si $\\pi \\le a \\le 2\\pi \\le b \\le 3\\pi$.\n",
      "\n",
      "Entonces, este intervalo contiene a $2\\pi$ por lo tanto regresamos: $[min[cos(a),cos(b)], 1]$.\n",
      "\n",
      "6   Si $\\pi \\le a \\le 2\\pi \\le 3\\pi \\le b$.\n",
      "\n",
      "Entonces, este intervalo contiene a $2\\pi$ y a $3\\pi$ y por lo tanto regresamos: $[-1,1]$.\n",
      "\n",
      "Con esto, conlu\u00edmos nuestra definci\u00f3n de Coseno."
     ]
    },
    {
     "cell_type": "heading",
     "level": 3,
     "metadata": {},
     "source": [
      "Implementaci\u00f3n de la funci\u00f3n en la clase intervalo.py"
     ]
    },
    {
     "cell_type": "markdown",
     "metadata": {},
     "source": [
      "Siguiendo la misma construcci\u00f3n que acabamos de explicar, implementamos la funci\u00f3n coseno al final da la clase intervalo.py."
     ]
    },
    {
     "cell_type": "code",
     "collapsed": false,
     "input": [
      "class Intervalo(object):\n",
      "    \"\"\"\n",
      "    Se define la clase 'Intervalo', y los m\u00e9todos para la aritm\u00e9tica b\u00e1sica de intervalos,\n",
      "    es decir, suma, resta, multiplicaci\u00f3n y divisi\u00f3n. Se incluyen otras funciones\n",
      "    que ser\u00e1n \u00fatiles.\n",
      "    \"\"\"\n",
      "    def __init__(self, lo, hi=None):\n",
      "        \"\"\"\n",
      "        Definimos las propiedades del objeto Intervalo a partir de sus bordes,\n",
      "        lo y hi, donde lo <= hi. En el caso en que el intervalo s\u00f3lo tenga\n",
      "        un n\u00famero, \u00e9ste se interpreta como un intervalo 'delgado' o 'degenerado'.\n",
      "        \"\"\"\n",
      "        if hi is None:\n",
      "            hi = lo\n",
      "        elif (hi < lo):\n",
      "            lo, hi = hi, lo\n",
      "        \n",
      "        self.lo = lo\n",
      "        self.hi = hi\n",
      "        \n",
      "    def __repr__(self):\n",
      "        return \"Intervalo [{},{}]\".format(self.lo,self.hi)\n",
      "    \n",
      "    def __str__(self):\n",
      "        # Esta funci\u00f3n sirve con 'print'\n",
      "        return \"[{},{}]\".format(self.lo,self.hi)\n",
      "\n",
      "    def _repr_html_(self):\n",
      "        return \"[{}, {}]\".format(self.lo, self.hi)\n",
      "    \n",
      "    def _repr_latex_(self):\n",
      "        return \"$[{}, {}]$\".format(self.lo, self.hi)\n",
      "\n",
      "    # Aqu\u00ed vienen las operaciones aritm\u00e9ticas\n",
      "    def __add__(self, otro):\n",
      "        \"\"\"\n",
      "        Suma de intervalos\n",
      "        \"\"\"\n",
      "        try:\n",
      "            return Intervalo(self.lo + otro.lo, self.hi + otro.hi)\n",
      "        except:\n",
      "            return self + Intervalo(otro)\n",
      "\n",
      "    def __radd__(self, otro):\n",
      "        return self + otro\n",
      "        \n",
      "\n",
      "        \n",
      "    def __mul__(self, otro):\n",
      "      \n",
      "        return self._mul2(otro)\n",
      "      \n",
      "      \n",
      "      \n",
      "    def _mul1(self, otro):\n",
      "        try:\n",
      "            S=[self.lo*otro.lo , self.lo * otro.hi , self.hi * otro.lo , self.hi * otro.hi ]\n",
      "            return Intervalo( min(S), max(S) )\n",
      "        except:\n",
      "            return self * Intervalo(otro)\n",
      "\n",
      "            \n",
      "    def _mul2(self, otro):\n",
      "        \"\"\"Multiplicacion de intervalos, evaluando todos los casos posibles \"\"\"\n",
      "        try:\n",
      "            if self.lo >= 0 :\n",
      "                if otro.lo >= 0:\n",
      "                    return Intervalo(self.lo * otro.lo , self.hi * otro.hi)\n",
      "                elif otro.hi <= 0 :\n",
      "                    return Intervalo(self.hi * otro.lo , self.lo * otro.hi)\n",
      "                elif otro.lo <= 0 and otro.hi >= 0:\n",
      "                    return Intervalo(self.hi * otro.lo , self.hi * otro.hi)\n",
      "                \n",
      "            elif self.hi <= 0:\n",
      "                if otro.hi <= 0:\n",
      "                    return Intervalo(self.hi * otro.hi , self.lo * otro.lo)\n",
      "                elif otro.lo >= 0:\n",
      "                    return Intervalo(self.lo * otro.hi , self.hi * otro.lo)\n",
      "                elif otro.lo <= 0 and otro.hi >= 0:\n",
      "                    return Intervalo(self.lo * otro.hi , self.lo * otro.lo) \n",
      "                     \n",
      "            elif self.lo <= 0 and self.hi >= 0:\n",
      "                if otro.lo >= 0:\n",
      "                    return Intervalo(self.lo * otro.hi , self.hi * otro.hi)\n",
      "                elif otro.hi <= 0:\n",
      "                    return Intervalo(self.hi * otro.lo , self.lo * otro.lo)\n",
      "           \n",
      "            #si no se cumplen las anteriores entonces\n",
      "            #otro.lo <= 0 <= otro.hi\n",
      "                elif otro.lo <= self.lo and otro.hi >= 0:   #en este punto se debe tener otro.lo<=0\n",
      "                    if self.hi <= otro.hi :                 #implica que otro.hi>0\n",
      "                        return Intervalo(self.hi * otro.lo , max(self.hi * otro.hi , self.lo*otro.lo))\n",
      "                    elif  otro.hi <= self.hi:               #tal vez poner 0 <= otro.hi and\n",
      "                        return Intervalo(self.hi * otro.lo , self.lo * otro.lo)\n",
      "                \n",
      "                elif self.lo <= otro.lo :\n",
      "                    if otro.hi >=0 :\n",
      "                        return Intervalo(self.lo * otro.hi , max(self.lo * otro.lo , self.hi * otro.hi))\n",
      "                    elif otro.hi <= 0:\n",
      "                        return Intervalo(self.hi * otro.lo , self.lo * otro.lo)\n",
      "                    \n",
      "        except:\n",
      "            return self * Intervalo(otro)\n",
      "\n",
      "     \n",
      "    def __rmul__(self, otro):\n",
      "        return self * otro\n",
      "\n",
      "    # Esta es la funcion igualdad para intervalos\n",
      "    def __eq__(self, otro):\n",
      "        \"\"\"\n",
      "        funci\u00f3n igualdad para intervalos \n",
      "\n",
      "        \"\"\"\n",
      "        try:\n",
      "            if self.lo == otro.lo and self.hi == otro.hi:\n",
      "                return True\n",
      "            else:\n",
      "                return False\n",
      "        except:\n",
      "            if self.lo == Intervalo(otro).lo and self.hi == Intervalo(otro).hi:\n",
      "                return True\n",
      "            else:\n",
      "                return False\n",
      "  \n",
      "\n",
      "    #interseccion\n",
      "    def __and__(self, otro):\n",
      "        \"\"\"\n",
      "        Intersecci\u00f3n de intervalos\n",
      "        Funciona con la sintaxis & (como el AND bitwise)\n",
      "        \"\"\"\n",
      "        if not isinstance(otro,Intervalo):\n",
      "            otro = Intervalo(otro)\n",
      "\n",
      "        if (self.lo > otro.hi) | (self.hi < otro.lo):\n",
      "            return None\n",
      "\n",
      "        else:\n",
      "            a = max( self.lo, otro.lo )\n",
      "            b = min( self.hi, otro.hi )\n",
      "            return Intervalo(a,b)\n",
      "    \n",
      "    #interseccion por la izquierda\n",
      "    def __rand__(self, otro):\n",
      "        \"\"\"\n",
      "        Interseccion de intervalos (por la izquierda)\n",
      "        \"\"\"\n",
      "        return self & otro\n",
      "    \n",
      "    #negativo del intervalo\n",
      "    def __neg__(self):\n",
      "        \"\"\"\n",
      "        Devuelve el valor negativo del intervalo\n",
      "        \"\"\"\n",
      "        return Intervalo(-self.hi, -self.lo)\n",
      "\n",
      "    #Resta\n",
      "    def __sub__(self, otro):\n",
      "        \"\"\"\n",
      "        Resta de Intervalos\n",
      "        \"\"\"\n",
      "        if not isinstance(otro, Intervalo):\n",
      "            otro = Intervalo(otro)\n",
      "        \n",
      "        return Intervalo(self.lo - otro.hi, self.hi - otro.lo)                \n",
      "        \n",
      "    #Resta reversa para poder hacer (float) - Intervalo\n",
      "    def __rsub__(self, otro):\n",
      "        \n",
      "        if not isinstance(otro, Intervalo):\n",
      "            otro = Intervalo(otro)\n",
      "            \n",
      "        return Intervalo.__sub__(otro, self)\n",
      "            \n",
      "    #Funcion reciproco\n",
      "    def reciprocal(self):\n",
      "        \"\"\"\n",
      "        Devuelve un intervalo con los valores rec\u00edprocos\n",
      "        \"\"\"\n",
      "        if self.lo <= 0 <= self.hi:\n",
      "            #si el intervalo contiene el cero debe de aparecer un error\n",
      "            raise ZeroDivisionError\n",
      "        else:\n",
      "            return Intervalo(1.0/self.hi,1.0/self.lo)\n",
      "\n",
      "    #division con denominadores que no contienen al cero    \n",
      "    def __div__(self, otro):\n",
      "    \t\"\"\"\n",
      "        Divisi\u00f3n\n",
      "    \t\"\"\"\n",
      "        if not isinstance(otro, Intervalo):\n",
      "            otro = Intervalo(otro)\n",
      "\n",
      "        if otro.lo <= 0 <= otro.hi:\n",
      "            raise ZeroDivisionError\n",
      "\n",
      "        else:\n",
      "            return self * otro.reciprocal()\n",
      "    \n",
      "    #divisi\u00f3n reversa\n",
      "    def __rdiv__(self, otro):\n",
      "        \"\"\"\n",
      "    \tDivisi\u00f3n revrsa para poder usar floats en el numerador\n",
      "        \"\"\"\n",
      "        if not isinstance(otro, Intervalo):\n",
      "            otro = Intervalo(otro)\n",
      "\n",
      "        return Intervalo.__div__(otro, self)\n",
      "\n",
      "    def middle(self):\n",
      "        \"\"\"\n",
      "        Calcula el punto medio del intervalo\n",
      "        \"\"\"\n",
      "        return (self.lo+self.hi)/2\n",
      "        \n",
      "    def radio(self):\n",
      "        \"\"\"\n",
      "        Calcula el radio del intervalo\n",
      "        \"\"\"\n",
      "        return (self.hi-self.lo)/2\n",
      "        \n",
      "    def width(self):\n",
      "        \"\"\"\n",
      "        Cacula la anchura\n",
      "        \"\"\"\n",
      "\n",
      "        return self.hi-self.lo\n",
      "        \n",
      "    def abs(self):\n",
      "        \n",
      "        return max([abs(self.lo),abs(self.hi)])\n",
      "\n",
      "    \n",
      "    #Relaci\u00f3n < de intervalos.\n",
      "    def __lt__(self,otro):\n",
      "        \"\"\"Relaci\u00f3n < de intervalos.\"\"\"\n",
      "        \n",
      "        try:\n",
      "            return self.hi < otro.lo\n",
      "        except:\n",
      "            return self < Intervalo(otro)\n",
      "\n",
      "    #Relaci\u00f3n > de intervalos.\n",
      "    def __gt__(self,otro):\n",
      "        \"\"\"Relaci\u00f3n > de intervalos.\"\"\"\n",
      "        \n",
      "        try:\n",
      "            return self.lo > otro.hi\n",
      "        except:\n",
      "            return self > Intervalo(otro)\n",
      "\n",
      "    #Relaci\u00f3n <= de intervalos.\n",
      "    def __le__(self,otro):\n",
      "\t\"\"\"Relaci\u00f3n <= de intervalos\"\"\"\n",
      "\n",
      "        try: \n",
      "            return (self.lo <= otro.lo) and self.hi <= otro.hi\t\n",
      "        except: \n",
      "            return self <= Intervalo(otro)\n",
      "\n",
      "    #Relaci\u00f3n >= de intervalos.\n",
      "    def __ge__(self,otro):\n",
      "\t\"\"\"Relaci\u00f3n >= de intervalos\"\"\"\n",
      "\n",
      "        try:\n",
      "            return (self.lo >= otro.lo) and self.hi >= otro.hi\n",
      "        except: \n",
      "            return self >= Intervalo(otro)\n",
      "    \n",
      "    def hull(self, otro):\n",
      "        return Intervalo(min(self.lo,otro.lo),max(self.hi,otro.hi))\n",
      "    \n",
      "    #Definici\u00f3n de coseno en Intervalos\n",
      "    import numpy as np\n",
      "    def cos(self):\n",
      "        \"\"\"\n",
      "        Coseno\n",
      "        \"\"\"\n",
      "        if ( self.hi - self.lo) >= ((2) * (np.pi)):\n",
      "            return Intervalo(-1,1)\n",
      "        \n",
      "        else:\n",
      "            if ( ( self.hi - (np.floor( (self.lo) / (2 * (np.pi)) ) * (2 * (np.pi))) ) <= (np.pi) ):\n",
      "                return Intervalo( np.cos(self.hi), np.cos(self.lo))\n",
      "            \n",
      "            elif ( ( self.lo - (np.floor( (self.lo) / (2 * (np.pi)) ) * (2 * (np.pi))) ) <= (np.pi) <= ( self.hi - (np.floor( (self.lo) / (2 * (np.pi)) ) * (2 * (np.pi))) ) <= (2 * (np.pi)) ):\n",
      "                return Intervalo( -1, max(np.cos(self.lo), np.cos(self.hi)))\n",
      "            \n",
      "            elif ( ( self.lo - (np.floor( (self.lo) / (2 * (np.pi)) ) * (2 * (np.pi))) ) <= (np.pi) <= (2 * (np.pi)) <= ( self.hi - (int( (self.lo) / (2 * (np.pi)) ) * (2 * (np.pi))) ) ):\n",
      "                return Intervalo( -1, 1)\n",
      "            \n",
      "            elif ( (np.pi) <= ( self.lo - (np.floor( (self.lo) / (2 * (np.pi)) ) * (2 * (np.pi))) ) <= ( self.hi - (np.floor( (self.lo) / (2 * (np.pi)) ) * (2 * (np.pi))) ) <= (2 * (np.pi)) ):\n",
      "                return Intervalo( np.cos(self.lo), np.cos(self.hi))\n",
      "            \n",
      "            elif ( (np.pi) <= ( self.lo - (np.floor( (self.lo) / (2 * (np.pi)) ) * (2 * (np.pi))) ) <= (2 * (np.pi)) <= ( self.hi - (np.floor( (self.lo) / (2 * (np.pi)) ) * (2 * (np.pi))) ) <= (3 * (np.pi)) ):\n",
      "                return Intervalo( min(np.cos(self.lo), np.cos(self.hi)), 1)\n",
      "            \n",
      "            elif ( (np.pi) <= ( self.lo - (np.floor( (self.lo) / (2 * (np.pi)) ) * (2 * (np.pi))) ) <= (3 * (np.pi)) <= ( self.hi - (np.floor( (self.lo) / (2 * (np.pi)) ) * (2 * (np.pi))) ) <= (3 * (np.pi)) ):\n",
      "                return Intervalo( -1, 1)\n",
      "            "
     ],
     "language": "python",
     "metadata": {},
     "outputs": [],
     "prompt_number": 33
    },
    {
     "cell_type": "code",
     "collapsed": false,
     "input": [
      "import numpy as np\n",
      "Intervalo(0, 2 * (np.pi)).cos()\n"
     ],
     "language": "python",
     "metadata": {},
     "outputs": [
      {
       "html": [
        "[-1, 1]"
       ],
       "latex": [
        "$[-1, 1]$"
       ],
       "output_type": "pyout",
       "prompt_number": 25,
       "text": [
        "Intervalo [-1,1]"
       ]
      }
     ],
     "prompt_number": 25
    },
    {
     "cell_type": "code",
     "collapsed": false,
     "input": [
      "Intervalo((1.) * (np.pi), (3./2) * (np.pi)).cos()"
     ],
     "language": "python",
     "metadata": {},
     "outputs": [
      {
       "html": [
        "[-1, -1.83697019872e-16]"
       ],
       "latex": [
        "$[-1, -1.83697019872e-16]$"
       ],
       "output_type": "pyout",
       "prompt_number": 39,
       "text": [
        "Intervalo [-1,-1.83697019872e-16]"
       ]
      }
     ],
     "prompt_number": 39
    },
    {
     "cell_type": "code",
     "collapsed": false,
     "input": [
      "Intervalo((1.) * (np.pi), (3)*(np.pi)).cos()"
     ],
     "language": "python",
     "metadata": {},
     "outputs": [
      {
       "html": [
        "[-1, 1]"
       ],
       "latex": [
        "$[-1, 1]$"
       ],
       "output_type": "pyout",
       "prompt_number": 38,
       "text": [
        "Intervalo [-1,1]"
       ]
      }
     ],
     "prompt_number": 38
    },
    {
     "cell_type": "code",
     "collapsed": false,
     "input": [
      "(np.floor( (5./2)*(np.pi) / (2 * (np.pi)) ) * (2 * (np.pi)))"
     ],
     "language": "python",
     "metadata": {},
     "outputs": [
      {
       "output_type": "pyout",
       "prompt_number": 29,
       "text": [
        "6.2831853071795862"
       ]
      }
     ],
     "prompt_number": 29
    },
    {
     "cell_type": "code",
     "collapsed": false,
     "input": [
      "a = Intervalo((3./2) * (np.pi), (5./2)*(np.pi))"
     ],
     "language": "python",
     "metadata": {},
     "outputs": [],
     "prompt_number": 43
    },
    {
     "cell_type": "code",
     "collapsed": false,
     "input": [
      "a"
     ],
     "language": "python",
     "metadata": {},
     "outputs": [
      {
       "html": [
        "[4.71238898038, 7.85398163397]"
       ],
       "latex": [
        "$[4.71238898038, 7.85398163397]$"
       ],
       "output_type": "pyout",
       "prompt_number": 44,
       "text": [
        "Intervalo [4.71238898038,7.85398163397]"
       ]
      }
     ],
     "prompt_number": 44
    },
    {
     "cell_type": "code",
     "collapsed": false,
     "input": [
      "a.cos()"
     ],
     "language": "python",
     "metadata": {},
     "outputs": [
      {
       "html": [
        "[-1.83697019872e-16, 1]"
       ],
       "latex": [
        "$[-1.83697019872e-16, 1]$"
       ],
       "output_type": "pyout",
       "prompt_number": 45,
       "text": [
        "Intervalo [-1.83697019872e-16,1]"
       ]
      }
     ],
     "prompt_number": 45
    }
   ],
   "metadata": {}
  }
 ]
}