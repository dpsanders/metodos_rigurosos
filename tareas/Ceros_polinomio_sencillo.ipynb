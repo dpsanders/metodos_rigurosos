{
 "metadata": {
  "name": ""
 },
 "nbformat": 3,
 "nbformat_minor": 0,
 "worksheets": [
  {
   "cells": [
    {
     "cell_type": "markdown",
     "metadata": {},
     "source": [
      "Quiero obtener los ceros de la funci\u00f3n $f(x)=x(x-1)(x-2)$"
     ]
    },
    {
     "cell_type": "code",
     "collapsed": false,
     "input": [
      "from intervalo import *"
     ],
     "language": "python",
     "metadata": {},
     "outputs": [],
     "prompt_number": 48
    },
    {
     "cell_type": "markdown",
     "metadata": {},
     "source": [
      "Ploteo la funci\u00f3n"
     ]
    },
    {
     "cell_type": "code",
     "collapsed": false,
     "input": [
      "x = math.linspace(-0.12,3,336)\n",
      "def f(x):\n",
      "    return x**3-3*x**2+2*x\n",
      "y = f(x)\n",
      "z = math.zeros(len(x))\n",
      "%matplotlib inline\n",
      "from matplotlib import pyplot as plt\n",
      "plt.plot(x,y,c='b')\n",
      "plt.plot(x,z,c='r')"
     ],
     "language": "python",
     "metadata": {},
     "outputs": [
      {
       "metadata": {},
       "output_type": "pyout",
       "prompt_number": 67,
       "text": [
        "[<matplotlib.lines.Line2D at 0x68e5dd0>]"
       ]
      },
      {
       "metadata": {},
       "output_type": "display_data",
       "png": "[encoded data removed]",
       "text": [
        "<matplotlib.figure.Figure at 0x5b75af0>"
       ]
      }
     ],
     "prompt_number": 67
    },
    {
     "cell_type": "markdown",
     "metadata": {},
     "source": [
      "Descompongo el dominio en intervalos, aproximo el rango con intervalos y ploteo"
     ]
    },
    {
     "cell_type": "code",
     "collapsed": false,
     "input": [
      "a = [Intervalo(x[i], x[i+1]) for i in range(len(x)-1)]\n",
      "b = [f(i) for i in a]"
     ],
     "language": "python",
     "metadata": {},
     "outputs": [
      {
       "output_type": "stream",
       "stream": "stdout",
       "text": [
        "Advertencia: El intervalo contiene el cero\n"
       ]
      }
     ],
     "prompt_number": 68
    },
    {
     "cell_type": "code",
     "collapsed": false,
     "input": [
      "for i in range(len(x)-1):\n",
      "    k1 = math.array([a[i].lo, a[i].lo, a[i].hi, a[i].hi])\n",
      "    k2 = math.array([b[i].lo, b[i].hi, b[i].hi, b[i].lo])\n",
      "    plt.fill(k1,k2,'b',alpha=0.3)\n",
      "plt.plot(x,y,c='b')\n",
      "plt.plot(x,z,c='r')"
     ],
     "language": "python",
     "metadata": {},
     "outputs": [
      {
       "metadata": {},
       "output_type": "pyout",
       "prompt_number": 69,
       "text": [
        "[<matplotlib.lines.Line2D at 0x4834ef0>]"
       ]
      },
      {
       "metadata": {},
       "output_type": "display_data",
       "png": "[encoded data removed]",
       "text": [
        "<matplotlib.figure.Figure at 0x4fbb730>"
       ]
      }
     ],
     "prompt_number": 69
    },
    {
     "cell_type": "markdown",
     "metadata": {},
     "source": [
      "Observo cuales intervalos da una aproximaci\u00f3n al rango que determina que se tiene un cero"
     ]
    },
    {
     "cell_type": "code",
     "collapsed": false,
     "input": [
      "for i in range(len(b)):\n",
      "    if 0 in b[i]:\n",
      "        print i"
     ],
     "language": "python",
     "metadata": {},
     "outputs": [
      {
       "output_type": "stream",
       "stream": "stdout",
       "text": [
        "12\n",
        "115\n",
        "116\n",
        "117\n",
        "118\n",
        "119\n",
        "120\n",
        "121\n",
        "122\n",
        "123\n",
        "124\n",
        "125\n",
        "221\n",
        "222\n",
        "223\n",
        "224\n",
        "225\n",
        "226\n",
        "227\n",
        "228\n",
        "229\n",
        "230\n",
        "231\n",
        "232\n",
        "233\n"
       ]
      }
     ],
     "prompt_number": 70
    },
    {
     "cell_type": "markdown",
     "metadata": {},
     "source": [
      "Observo que por errores de redondeo se tiene que intervalos que no contienen un cero de la funci\u00f3n, por ejemplo los que no tienen al $1$, aseguran que la funci\u00f3n tiene un cero."
     ]
    },
    {
     "cell_type": "code",
     "collapsed": false,
     "input": [
      "1 in a[106]"
     ],
     "language": "python",
     "metadata": {},
     "outputs": [
      {
       "metadata": {},
       "output_type": "pyout",
       "prompt_number": 71,
       "text": [
        "False"
       ]
      }
     ],
     "prompt_number": 71
    },
    {
     "cell_type": "code",
     "collapsed": false,
     "input": [
      "1 in a[117]"
     ],
     "language": "python",
     "metadata": {},
     "outputs": [
      {
       "metadata": {},
       "output_type": "pyout",
       "prompt_number": 72,
       "text": [
        "False"
       ]
      }
     ],
     "prompt_number": 72
    },
    {
     "cell_type": "markdown",
     "metadata": {},
     "source": [
      "Sin emabrgo se recupera un intervalo que tiene al $1$."
     ]
    },
    {
     "cell_type": "code",
     "collapsed": false,
     "input": [
      "a[106].lo <= 1 <= a[117].hi"
     ],
     "language": "python",
     "metadata": {},
     "outputs": [
      {
       "metadata": {},
       "output_type": "pyout",
       "prompt_number": 73,
       "text": [
        "False"
       ]
      }
     ],
     "prompt_number": 73
    },
    {
     "cell_type": "markdown",
     "metadata": {},
     "source": [
      "Construyo un algoritmo para obtener los intervalos donde hay cero"
     ]
    },
    {
     "cell_type": "code",
     "collapsed": false,
     "input": [
      "i = 0\n",
      "k = 0 in b[0]\n",
      "l=[]\n",
      "while i <len(b)-1:\n",
      "    if k == 0:\n",
      "        i += 1\n",
      "        k = 0 in b[i]\n",
      "    if k == 1:\n",
      "        prim = i\n",
      "        i += 1\n",
      "        k = 0 in b[i]\n",
      "        while k == 1:\n",
      "            i += 1\n",
      "            k = 0 in b[i]\n",
      "        ult = i-1\n",
      "        l.append(Intervalo(a[prim].lo, a[ult].hi))"
     ],
     "language": "python",
     "metadata": {},
     "outputs": [],
     "prompt_number": 74
    },
    {
     "cell_type": "markdown",
     "metadata": {},
     "source": [
      "Finalmente obtengo una lista de los intervalos donde se espera que haya ceros."
     ]
    },
    {
     "cell_type": "code",
     "collapsed": false,
     "input": [
      "l"
     ],
     "language": "python",
     "metadata": {},
     "outputs": [
      {
       "metadata": {},
       "output_type": "pyout",
       "prompt_number": 81,
       "text": [
        "[Intervalo [-0.00823880597015,0.00107462686567],\n",
        " Intervalo [0.951044776119,1.05349253731],\n",
        " Intervalo [1.93826865672,2.05934328358]]"
       ]
      }
     ],
     "prompt_number": 81
    }
   ],
   "metadata": {}
  }
 ]
}