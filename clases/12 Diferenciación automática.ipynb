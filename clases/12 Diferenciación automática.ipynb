{
 "metadata": {
  "name": ""
 },
 "nbformat": 3,
 "nbformat_minor": 0,
 "worksheets": [
  {
   "cells": [
    {
     "cell_type": "heading",
     "level": 1,
     "metadata": {},
     "source": [
      "Diferenciaci\u00f3n autom\u00e1tica"
     ]
    },
    {
     "cell_type": "code",
     "collapsed": false,
     "input": [
      "from dif_auto import *"
     ],
     "language": "python",
     "metadata": {},
     "outputs": [],
     "prompt_number": 1
    },
    {
     "cell_type": "code",
     "collapsed": false,
     "input": [
      "!nosetests test_dif_auto -v"
     ],
     "language": "python",
     "metadata": {},
     "outputs": [
      {
       "output_type": "stream",
       "stream": "stdout",
       "text": [
        "test_dif_auto.test_add ... ok\r\n",
        "test_dif_auto.test_mul ... ok\r\n",
        "\r\n",
        "----------------------------------------------------------------------\r\n",
        "Ran 2 tests in 0.001s\r\n",
        "\r\n",
        "OK\r\n"
       ]
      }
     ],
     "prompt_number": 2
    },
    {
     "cell_type": "code",
     "collapsed": false,
     "input": [
      "%%bash\n",
      "ls\n",
      "mkdir nuevo\n",
      "ls"
     ],
     "language": "python",
     "metadata": {},
     "outputs": [
      {
       "output_type": "stream",
       "stream": "stdout",
       "text": [
        "01 Introducci\u00f3n a Python.ipynb\n",
        "02 El paquete numpy para vectores y matrices.ipynb\n",
        "03 Matplotlib, sympy, mpmath.ipynb\n",
        "04 Aritm\u00e9tica con intervalos.ipynb\n",
        "05a Intervalos como objetos.ipynb\n",
        "05b Intervalos como objetos II.ipynb\n",
        "06a_AritmeticaIntervalos-Cont.ipynb\n",
        "06b M\u00e1s operaciones con intervalos.ipynb\n",
        "07 A\u00fan m\u00e1s operaciones interv\u00e1licas.ipynb\n",
        "08 Excepciones.ipynb\n",
        "09 Manejando git.ipynb\n",
        "1. Sintaxis b\u00e1sica de Python.html\n",
        "1. Sintaxis b\u00e1sica de Python.ipynb\n",
        "1. Sintaxis b\u00e1sica de Python.tex\n",
        "1. Sintaxis b\u00e1sica de Python_files\n",
        "12 Diferenciaci\u00f3n autom\u00e1tica.ipynb\n",
        "12 Redondeo.ipynb\n",
        "12a_AritmeticaPuntoFlotante.ipynb\n",
        "12b_PuntoFlotanteRedondeo.ipynb\n",
        "2. Estructuras de control.html\n",
        "2. Estructuras de control.ipynb\n",
        "2. Estructuras de control.pdf\n",
        "2. Estructuras de control.tex\n",
        "2. Estructuras de control_files\n",
        "Tests_ipynb\n",
        "Untitled0.ipynb\n",
        "clase-12-agosto-2013.ipynb\n",
        "dif_auto.py\n",
        "dif_auto.pyc\n",
        "intervalo.py\n",
        "intervalo.pyc\n",
        "nuevo\n",
        "test_dif_auto.py\n",
        "test_dif_auto.pyc\n",
        "test_intervalo.py\n",
        "test_intervalo.pyc\n",
        "01 Introducci\u00f3n a Python.ipynb\n",
        "02 El paquete numpy para vectores y matrices.ipynb\n",
        "03 Matplotlib, sympy, mpmath.ipynb\n",
        "04 Aritm\u00e9tica con intervalos.ipynb\n",
        "05a Intervalos como objetos.ipynb\n",
        "05b Intervalos como objetos II.ipynb\n",
        "06a_AritmeticaIntervalos-Cont.ipynb\n",
        "06b M\u00e1s operaciones con intervalos.ipynb\n",
        "07 A\u00fan m\u00e1s operaciones interv\u00e1licas.ipynb\n",
        "08 Excepciones.ipynb\n",
        "09 Manejando git.ipynb\n",
        "1. Sintaxis b\u00e1sica de Python.html\n",
        "1. Sintaxis b\u00e1sica de Python.ipynb\n",
        "1. Sintaxis b\u00e1sica de Python.tex\n",
        "1. Sintaxis b\u00e1sica de Python_files\n",
        "12 Diferenciaci\u00f3n autom\u00e1tica.ipynb\n",
        "12 Redondeo.ipynb\n",
        "12a_AritmeticaPuntoFlotante.ipynb\n",
        "12b_PuntoFlotanteRedondeo.ipynb\n",
        "2. Estructuras de control.html\n",
        "2. Estructuras de control.ipynb\n",
        "2. Estructuras de control.pdf\n",
        "2. Estructuras de control.tex\n",
        "2. Estructuras de control_files\n",
        "Tests_ipynb\n",
        "Untitled0.ipynb\n",
        "clase-12-agosto-2013.ipynb\n",
        "dif_auto.py\n",
        "dif_auto.pyc\n",
        "intervalo.py\n",
        "intervalo.pyc\n",
        "nuevo\n",
        "test_dif_auto.py\n",
        "test_dif_auto.pyc\n",
        "test_intervalo.py\n",
        "test_intervalo.pyc\n"
       ]
      },
      {
       "output_type": "stream",
       "stream": "stderr",
       "text": [
        "mkdir: nuevo: File exists\n"
       ]
      }
     ],
     "prompt_number": 3
    },
    {
     "cell_type": "code",
     "collapsed": false,
     "input": [
      "a = 1\n",
      "archivos = !ls $a*\n",
      "archivos"
     ],
     "language": "python",
     "metadata": {},
     "outputs": [
      {
       "metadata": {},
       "output_type": "pyout",
       "prompt_number": 4,
       "text": [
        "['1. Sintaxis ba\\xcc\\x81sica de Python.html',\n",
        " '1. Sintaxis ba\\xcc\\x81sica de Python.ipynb',\n",
        " '1. Sintaxis ba\\xcc\\x81sica de Python.tex',\n",
        " '12 Diferenciacio\\xcc\\x81n automa\\xcc\\x81tica.ipynb',\n",
        " '12 Redondeo.ipynb',\n",
        " '12a_AritmeticaPuntoFlotante.ipynb',\n",
        " '12b_PuntoFlotanteRedondeo.ipynb',\n",
        " '',\n",
        " '1. Sintaxis ba\\xcc\\x81sica de Python_files:',\n",
        " '1. Sintaxis ba\\xcc\\x81sica de Python_11_0.text',\n",
        " '1. Sintaxis ba\\xcc\\x81sica de Python_13_0.text',\n",
        " '1. Sintaxis ba\\xcc\\x81sica de Python_16_0.text',\n",
        " '1. Sintaxis ba\\xcc\\x81sica de Python_17_0.text',\n",
        " '1. Sintaxis ba\\xcc\\x81sica de Python_18_0.text',\n",
        " '1. Sintaxis ba\\xcc\\x81sica de Python_19_0.text',\n",
        " '1. Sintaxis ba\\xcc\\x81sica de Python_1_0.text',\n",
        " '1. Sintaxis ba\\xcc\\x81sica de Python_21_0.text',\n",
        " '1. Sintaxis ba\\xcc\\x81sica de Python_22_0.text',\n",
        " '1. Sintaxis ba\\xcc\\x81sica de Python_23_0.text',\n",
        " '1. Sintaxis ba\\xcc\\x81sica de Python_24_0.text',\n",
        " '1. Sintaxis ba\\xcc\\x81sica de Python_26_0.text',\n",
        " '1. Sintaxis ba\\xcc\\x81sica de Python_2_0.text',\n",
        " '1. Sintaxis ba\\xcc\\x81sica de Python_30_0.text',\n",
        " '1. Sintaxis ba\\xcc\\x81sica de Python_32_0.text',\n",
        " '1. Sintaxis ba\\xcc\\x81sica de Python_33_0.text',\n",
        " '1. Sintaxis ba\\xcc\\x81sica de Python_34_0.text',\n",
        " '1. Sintaxis ba\\xcc\\x81sica de Python_35_0.text',\n",
        " '1. Sintaxis ba\\xcc\\x81sica de Python_37_0.text',\n",
        " '1. Sintaxis ba\\xcc\\x81sica de Python_38_0.text',\n",
        " '1. Sintaxis ba\\xcc\\x81sica de Python_39_0.text',\n",
        " '1. Sintaxis ba\\xcc\\x81sica de Python_41_0.text',\n",
        " '1. Sintaxis ba\\xcc\\x81sica de Python_42_0.text',\n",
        " '1. Sintaxis ba\\xcc\\x81sica de Python_43_0.text',\n",
        " '1. Sintaxis ba\\xcc\\x81sica de Python_48_0.text',\n",
        " '1. Sintaxis ba\\xcc\\x81sica de Python_4_0.text',\n",
        " '1. Sintaxis ba\\xcc\\x81sica de Python_50_0.text',\n",
        " '1. Sintaxis ba\\xcc\\x81sica de Python_51_0.text',\n",
        " '1. Sintaxis ba\\xcc\\x81sica de Python_53_0.text',\n",
        " '1. Sintaxis ba\\xcc\\x81sica de Python_54_0.text',\n",
        " '1. Sintaxis ba\\xcc\\x81sica de Python_56_0.text',\n",
        " '1. Sintaxis ba\\xcc\\x81sica de Python_57_0.text',\n",
        " '1. Sintaxis ba\\xcc\\x81sica de Python_5_0.text',\n",
        " '1. Sintaxis ba\\xcc\\x81sica de Python_60_0.text',\n",
        " '1. Sintaxis ba\\xcc\\x81sica de Python_63_0.text',\n",
        " '1. Sintaxis ba\\xcc\\x81sica de Python_64_0.text',\n",
        " '1. Sintaxis ba\\xcc\\x81sica de Python_65_0.text',\n",
        " '1. Sintaxis ba\\xcc\\x81sica de Python_66_0.text',\n",
        " '1. Sintaxis ba\\xcc\\x81sica de Python_67_0.text',\n",
        " '1. Sintaxis ba\\xcc\\x81sica de Python_68_0.text',\n",
        " '1. Sintaxis ba\\xcc\\x81sica de Python_69_0.text',\n",
        " '1. Sintaxis ba\\xcc\\x81sica de Python_6_0.text',\n",
        " '1. Sintaxis ba\\xcc\\x81sica de Python_70_0.text',\n",
        " '1. Sintaxis ba\\xcc\\x81sica de Python_72_0.text',\n",
        " '1. Sintaxis ba\\xcc\\x81sica de Python_75_0.text',\n",
        " '1. Sintaxis ba\\xcc\\x81sica de Python_76_0.text',\n",
        " '1. Sintaxis ba\\xcc\\x81sica de Python_78_0.text',\n",
        " '1. Sintaxis ba\\xcc\\x81sica de Python_79_0.text',\n",
        " '1. Sintaxis ba\\xcc\\x81sica de Python_7_0.text',\n",
        " '1. Sintaxis ba\\xcc\\x81sica de Python_81_0.text',\n",
        " '1. Sintaxis ba\\xcc\\x81sica de Python_82_0.text',\n",
        " '1. Sintaxis ba\\xcc\\x81sica de Python_83_0.text',\n",
        " '1. Sintaxis ba\\xcc\\x81sica de Python_85_0.text',\n",
        " '1. Sintaxis ba\\xcc\\x81sica de Python_86_0.text',\n",
        " '1. Sintaxis ba\\xcc\\x81sica de Python_89_0.text']"
       ]
      }
     ],
     "prompt_number": 4
    },
    {
     "cell_type": "code",
     "collapsed": false,
     "input": [
      "a = DifAuto(3, 4)"
     ],
     "language": "python",
     "metadata": {},
     "outputs": [],
     "prompt_number": 5
    },
    {
     "cell_type": "code",
     "collapsed": false,
     "input": [],
     "language": "python",
     "metadata": {},
     "outputs": [],
     "prompt_number": 5
    },
    {
     "cell_type": "code",
     "collapsed": false,
     "input": [
      "a"
     ],
     "language": "python",
     "metadata": {},
     "outputs": [
      {
       "metadata": {},
       "output_type": "pyout",
       "prompt_number": 6,
       "text": [
        "DifAuto(3, 4)"
       ]
      }
     ],
     "prompt_number": 6
    },
    {
     "cell_type": "code",
     "collapsed": false,
     "input": [
      "a"
     ],
     "language": "python",
     "metadata": {},
     "outputs": [
      {
       "metadata": {},
       "output_type": "pyout",
       "prompt_number": 7,
       "text": [
        "DifAuto(3, 4)"
       ]
      }
     ],
     "prompt_number": 7
    },
    {
     "cell_type": "code",
     "collapsed": false,
     "input": [
      "c = DifAuto(3, 0)\n",
      "x = DifAuto(5, 1)"
     ],
     "language": "python",
     "metadata": {},
     "outputs": [],
     "prompt_number": 8
    },
    {
     "cell_type": "code",
     "collapsed": false,
     "input": [
      "c * x"
     ],
     "language": "python",
     "metadata": {},
     "outputs": [
      {
       "metadata": {},
       "output_type": "pyout",
       "prompt_number": 9,
       "text": [
        "DifAuto(15, 3)"
       ]
      }
     ],
     "prompt_number": 9
    },
    {
     "cell_type": "code",
     "collapsed": false,
     "input": [
      "def f(x):\n",
      "    return 2*x + x*x"
     ],
     "language": "python",
     "metadata": {},
     "outputs": [],
     "prompt_number": 10
    },
    {
     "cell_type": "markdown",
     "metadata": {},
     "source": [
      "Quiero calcular $f'(3)$. \u00bfC\u00f3mo le hago?"
     ]
    },
    {
     "cell_type": "code",
     "collapsed": false,
     "input": [
      "DifAuto(f(3))"
     ],
     "language": "python",
     "metadata": {},
     "outputs": [
      {
       "metadata": {},
       "output_type": "pyout",
       "prompt_number": 11,
       "text": [
        "DifAuto(15, 0)"
       ]
      }
     ],
     "prompt_number": 11
    },
    {
     "cell_type": "markdown",
     "metadata": {},
     "source": [
      "No as\u00ed!"
     ]
    },
    {
     "cell_type": "code",
     "collapsed": false,
     "input": [
      "f(DifAuto(3))"
     ],
     "language": "python",
     "metadata": {},
     "outputs": [
      {
       "metadata": {},
       "output_type": "pyout",
       "prompt_number": 12,
       "text": [
        "DifAuto(15, 0)"
       ]
      }
     ],
     "prompt_number": 12
    },
    {
     "cell_type": "markdown",
     "metadata": {},
     "source": [
      "Tampoco!"
     ]
    },
    {
     "cell_type": "markdown",
     "metadata": {},
     "source": [
      "Para calcular $f'(3)$ con este m\u00e9todo, necesito calcular $(f(3), f'(3))$"
     ]
    },
    {
     "cell_type": "code",
     "collapsed": false,
     "input": [
      "x = DifAuto(3, 1)\n",
      "# Trata x como una variable, y \"luego\" sustituir 3"
     ],
     "language": "python",
     "metadata": {},
     "outputs": [],
     "prompt_number": 13
    },
    {
     "cell_type": "code",
     "collapsed": false,
     "input": [
      "f(x)"
     ],
     "language": "python",
     "metadata": {},
     "outputs": [
      {
       "metadata": {},
       "output_type": "pyout",
       "prompt_number": 14,
       "text": [
        "DifAuto(15, 8)"
       ]
      }
     ],
     "prompt_number": 14
    },
    {
     "cell_type": "code",
     "collapsed": false,
     "input": [
      "f(\"hola\")"
     ],
     "language": "python",
     "metadata": {},
     "outputs": [
      {
       "ename": "TypeError",
       "evalue": "can't multiply sequence by non-int of type 'str'",
       "output_type": "pyerr",
       "traceback": [
        "\u001b[0;31m---------------------------------------------------------------------------\u001b[0m\n\u001b[0;31mTypeError\u001b[0m                                 Traceback (most recent call last)",
        "\u001b[0;32m<ipython-input-15-0d6f422ffb78>\u001b[0m in \u001b[0;36m<module>\u001b[0;34m()\u001b[0m\n\u001b[0;32m----> 1\u001b[0;31m \u001b[0mf\u001b[0m\u001b[0;34m(\u001b[0m\u001b[0;34m\"hola\"\u001b[0m\u001b[0;34m)\u001b[0m\u001b[0;34m\u001b[0m\u001b[0m\n\u001b[0m",
        "\u001b[0;32m<ipython-input-10-59206ec04982>\u001b[0m in \u001b[0;36mf\u001b[0;34m(x)\u001b[0m\n\u001b[1;32m      1\u001b[0m \u001b[0;32mdef\u001b[0m \u001b[0mf\u001b[0m\u001b[0;34m(\u001b[0m\u001b[0mx\u001b[0m\u001b[0;34m)\u001b[0m\u001b[0;34m:\u001b[0m\u001b[0;34m\u001b[0m\u001b[0m\n\u001b[0;32m----> 2\u001b[0;31m     \u001b[0;32mreturn\u001b[0m \u001b[0;36m2\u001b[0m\u001b[0;34m*\u001b[0m\u001b[0mx\u001b[0m \u001b[0;34m+\u001b[0m \u001b[0mx\u001b[0m\u001b[0;34m*\u001b[0m\u001b[0mx\u001b[0m\u001b[0;34m\u001b[0m\u001b[0m\n\u001b[0m",
        "\u001b[0;31mTypeError\u001b[0m: can't multiply sequence by non-int of type 'str'"
       ]
      }
     ],
     "prompt_number": 15
    },
    {
     "cell_type": "code",
     "collapsed": false,
     "input": [
      "def g(x):\n",
      "    return x / 2"
     ],
     "language": "python",
     "metadata": {},
     "outputs": [],
     "prompt_number": 16
    },
    {
     "cell_type": "code",
     "collapsed": false,
     "input": [
      "g(3)"
     ],
     "language": "python",
     "metadata": {},
     "outputs": [
      {
       "metadata": {},
       "output_type": "pyout",
       "prompt_number": 17,
       "text": [
        "1"
       ]
      }
     ],
     "prompt_number": 17
    },
    {
     "cell_type": "code",
     "collapsed": false,
     "input": [
      "g(x)"
     ],
     "language": "python",
     "metadata": {},
     "outputs": [
      {
       "ename": "TypeError",
       "evalue": "unsupported operand type(s) for /: 'DifAuto' and 'int'",
       "output_type": "pyerr",
       "traceback": [
        "\u001b[0;31m---------------------------------------------------------------------------\u001b[0m\n\u001b[0;31mTypeError\u001b[0m                                 Traceback (most recent call last)",
        "\u001b[0;32m<ipython-input-18-0fe2fd8db060>\u001b[0m in \u001b[0;36m<module>\u001b[0;34m()\u001b[0m\n\u001b[0;32m----> 1\u001b[0;31m \u001b[0mg\u001b[0m\u001b[0;34m(\u001b[0m\u001b[0mx\u001b[0m\u001b[0;34m)\u001b[0m\u001b[0;34m\u001b[0m\u001b[0m\n\u001b[0m",
        "\u001b[0;32m<ipython-input-16-7763a2a79302>\u001b[0m in \u001b[0;36mg\u001b[0;34m(x)\u001b[0m\n\u001b[1;32m      1\u001b[0m \u001b[0;32mdef\u001b[0m \u001b[0mg\u001b[0m\u001b[0;34m(\u001b[0m\u001b[0mx\u001b[0m\u001b[0;34m)\u001b[0m\u001b[0;34m:\u001b[0m\u001b[0;34m\u001b[0m\u001b[0m\n\u001b[0;32m----> 2\u001b[0;31m     \u001b[0;32mreturn\u001b[0m \u001b[0mx\u001b[0m \u001b[0;34m/\u001b[0m \u001b[0;36m2\u001b[0m\u001b[0;34m\u001b[0m\u001b[0m\n\u001b[0m",
        "\u001b[0;31mTypeError\u001b[0m: unsupported operand type(s) for /: 'DifAuto' and 'int'"
       ]
      }
     ],
     "prompt_number": 18
    },
    {
     "cell_type": "code",
     "collapsed": false,
     "input": [
      "from sympy import symbols, init_printing\n",
      "init_printing()"
     ],
     "language": "python",
     "metadata": {},
     "outputs": [],
     "prompt_number": 19
    },
    {
     "cell_type": "code",
     "collapsed": false,
     "input": [
      "xx = symbols(\"x\")"
     ],
     "language": "python",
     "metadata": {},
     "outputs": [],
     "prompt_number": 20
    },
    {
     "cell_type": "code",
     "collapsed": false,
     "input": [
      "xx"
     ],
     "language": "python",
     "metadata": {},
     "outputs": [
      {
       "latex": [
        "$$x$$"
       ],
       "metadata": {},
       "output_type": "pyout",
       "png": "[encoded data removed]",
       "prompt_number": 21,
       "text": [
        "x"
       ]
      }
     ],
     "prompt_number": 21
    },
    {
     "cell_type": "code",
     "collapsed": false,
     "input": [
      "f(xx)"
     ],
     "language": "python",
     "metadata": {},
     "outputs": [
      {
       "latex": [
        "$$x^{2} + 2 x$$"
       ],
       "metadata": {},
       "output_type": "pyout",
       "png": "[encoded data removed]",
       "prompt_number": 22,
       "text": [
        " 2      \n",
        "x  + 2\u22c5x"
       ]
      }
     ],
     "prompt_number": 22
    },
    {
     "cell_type": "code",
     "collapsed": false,
     "input": [
      "xxx = DifAuto(xx, 1)\n",
      "xxx"
     ],
     "language": "python",
     "metadata": {},
     "outputs": [
      {
       "metadata": {},
       "output_type": "pyout",
       "prompt_number": 23,
       "text": [
        "DifAuto(x, 1)"
       ]
      }
     ],
     "prompt_number": 23
    },
    {
     "cell_type": "code",
     "collapsed": false,
     "input": [
      "resultado = f(xxx)"
     ],
     "language": "python",
     "metadata": {},
     "outputs": [],
     "prompt_number": 24
    },
    {
     "cell_type": "code",
     "collapsed": false,
     "input": [
      "derivada = resultado.deriv\n",
      "derivada"
     ],
     "language": "python",
     "metadata": {},
     "outputs": [
      {
       "latex": [
        "$$2 x + 2$$"
       ],
       "metadata": {},
       "output_type": "pyout",
       "png": "[encoded data removed]",
       "prompt_number": 25,
       "text": [
        "2\u22c5x + 2"
       ]
      }
     ],
     "prompt_number": 25
    },
    {
     "cell_type": "heading",
     "level": 1,
     "metadata": {},
     "source": [
      "Aplicaci\u00f3n a intervalos"
     ]
    },
    {
     "cell_type": "code",
     "collapsed": false,
     "input": [
      "from intervalo import Intervalo"
     ],
     "language": "python",
     "metadata": {},
     "outputs": [],
     "prompt_number": 26
    },
    {
     "cell_type": "code",
     "collapsed": false,
     "input": [
      "i = Intervalo(3, 4)"
     ],
     "language": "python",
     "metadata": {},
     "outputs": [],
     "prompt_number": 27
    },
    {
     "cell_type": "code",
     "collapsed": false,
     "input": [
      "def f(x):\n",
      "    return 2*x + x*x"
     ],
     "language": "python",
     "metadata": {},
     "outputs": [],
     "prompt_number": 28
    },
    {
     "cell_type": "markdown",
     "metadata": {},
     "source": [
      "`f(i)` me dar\u00e1 un intervalo que contiene el rango verdadero de la funci\u00f3n `f` evaluada sobre el intervalo"
     ]
    },
    {
     "cell_type": "code",
     "collapsed": false,
     "input": [
      "i = Intervalo(-1, 1)\n",
      "i"
     ],
     "language": "python",
     "metadata": {},
     "outputs": [
      {
       "html": [
        "[-1, 1]"
       ],
       "latex": [
        "$[-1, 1]$"
       ],
       "metadata": {},
       "output_type": "pyout",
       "prompt_number": 29,
       "text": [
        "Intervalo [-1,1]"
       ]
      }
     ],
     "prompt_number": 29
    },
    {
     "cell_type": "code",
     "collapsed": false,
     "input": [
      "f(i)"
     ],
     "language": "python",
     "metadata": {},
     "outputs": [
      {
       "html": [
        "[-3, 3]"
       ],
       "latex": [
        "$[-3, 3]$"
       ],
       "metadata": {},
       "output_type": "pyout",
       "prompt_number": 30,
       "text": [
        "Intervalo [-3,3]"
       ]
      }
     ],
     "prompt_number": 30
    },
    {
     "cell_type": "code",
     "collapsed": false,
     "input": [
      "i*i"
     ],
     "language": "python",
     "metadata": {},
     "outputs": [
      {
       "html": [
        "[-1, 1]"
       ],
       "latex": [
        "$[-1, 1]$"
       ],
       "metadata": {},
       "output_type": "pyout",
       "prompt_number": 31,
       "text": [
        "Intervalo [-1,1]"
       ]
      }
     ],
     "prompt_number": 31
    },
    {
     "cell_type": "code",
     "collapsed": false,
     "input": [
      "i**2 "
     ],
     "language": "python",
     "metadata": {},
     "outputs": [
      {
       "output_type": "stream",
       "stream": "stdout",
       "text": [
        "Advertencia: El intervalo contiene el cero\n"
       ]
      },
      {
       "html": [
        "[0, 1]"
       ],
       "latex": [
        "$[0, 1]$"
       ],
       "metadata": {},
       "output_type": "pyout",
       "prompt_number": 32,
       "text": [
        "Intervalo [0,1]"
       ]
      }
     ],
     "prompt_number": 32
    },
    {
     "cell_type": "markdown",
     "metadata": {},
     "source": [
      "Queremos encontrar el rango de la derivada de la funci\u00f3n en todo el intervalo.\n",
      "Lo que podemos hacer es encontrar un *enclosure* del rango de la derivada!"
     ]
    },
    {
     "cell_type": "code",
     "collapsed": false,
     "input": [
      "x = DifAuto(i, 1)"
     ],
     "language": "python",
     "metadata": {},
     "outputs": [],
     "prompt_number": 33
    },
    {
     "cell_type": "code",
     "collapsed": false,
     "input": [
      "f(x)"
     ],
     "language": "python",
     "metadata": {},
     "outputs": [
      {
       "metadata": {},
       "output_type": "pyout",
       "prompt_number": 34,
       "text": [
        "DifAuto([-3,3], [0,4])"
       ]
      }
     ],
     "prompt_number": 34
    },
    {
     "cell_type": "code",
     "collapsed": false,
     "input": [
      "i"
     ],
     "language": "python",
     "metadata": {},
     "outputs": [
      {
       "html": [
        "[-1, 1]"
       ],
       "latex": [
        "$[-1, 1]$"
       ],
       "metadata": {},
       "output_type": "pyout",
       "prompt_number": 35,
       "text": [
        "Intervalo [-1,1]"
       ]
      }
     ],
     "prompt_number": 35
    },
    {
     "cell_type": "code",
     "collapsed": false,
     "input": [
      "def g(x):\n",
      "    return x*x*x"
     ],
     "language": "python",
     "metadata": {},
     "outputs": [],
     "prompt_number": 36
    },
    {
     "cell_type": "code",
     "collapsed": false,
     "input": [
      "g(i)"
     ],
     "language": "python",
     "metadata": {},
     "outputs": [
      {
       "html": [
        "[-1, 1]"
       ],
       "latex": [
        "$[-1, 1]$"
       ],
       "metadata": {},
       "output_type": "pyout",
       "prompt_number": 37,
       "text": [
        "Intervalo [-1,1]"
       ]
      }
     ],
     "prompt_number": 37
    },
    {
     "cell_type": "code",
     "collapsed": false,
     "input": [
      "g(DifAuto(i, 1))"
     ],
     "language": "python",
     "metadata": {},
     "outputs": [
      {
       "metadata": {},
       "output_type": "pyout",
       "prompt_number": 38,
       "text": [
        "DifAuto([-1,1], [-3,3])"
       ]
      }
     ],
     "prompt_number": 38
    },
    {
     "cell_type": "markdown",
     "metadata": {},
     "source": [
      "Pero la derivada de $x^3$ es siempre positiva. El resultado s\u00f3lo *incluye* el resultado correcto."
     ]
    },
    {
     "cell_type": "code",
     "collapsed": false,
     "input": [
      "d = {}"
     ],
     "language": "python",
     "metadata": {},
     "outputs": [],
     "prompt_number": 39
    },
    {
     "cell_type": "code",
     "collapsed": false,
     "input": [
      "d[1] = 3"
     ],
     "language": "python",
     "metadata": {},
     "outputs": [],
     "prompt_number": 40
    },
    {
     "cell_type": "code",
     "collapsed": false,
     "input": [
      "d"
     ],
     "language": "python",
     "metadata": {},
     "outputs": [
      {
       "latex": [
        "$$\\begin{Bmatrix}1 : 3\\end{Bmatrix}$$"
       ],
       "metadata": {},
       "output_type": "pyout",
       "png": "[encoded data removed]",
       "prompt_number": 41,
       "text": [
        "{1: 3}"
       ]
      }
     ],
     "prompt_number": 41
    },
    {
     "cell_type": "code",
     "collapsed": false,
     "input": [
      "d[\"hola\"] = \"David\""
     ],
     "language": "python",
     "metadata": {},
     "outputs": [],
     "prompt_number": 42
    },
    {
     "cell_type": "code",
     "collapsed": false,
     "input": [
      "d"
     ],
     "language": "python",
     "metadata": {},
     "outputs": [
      {
       "metadata": {},
       "output_type": "pyout",
       "prompt_number": 43,
       "text": [
        "{1: 3, 'hola': 'David'}"
       ]
      }
     ],
     "prompt_number": 43
    },
    {
     "cell_type": "code",
     "collapsed": false,
     "input": [
      "sin"
     ],
     "language": "python",
     "metadata": {},
     "outputs": [
      {
       "metadata": {},
       "output_type": "pyout",
       "prompt_number": 44,
       "text": [
        "<function dif_auto.sin>"
       ]
      }
     ],
     "prompt_number": 44
    },
    {
     "cell_type": "code",
     "collapsed": false,
     "input": [
      "math.sin"
     ],
     "language": "python",
     "metadata": {},
     "outputs": [
      {
       "metadata": {},
       "output_type": "pyout",
       "prompt_number": 45,
       "text": [
        "<ufunc 'sin'>"
       ]
      }
     ],
     "prompt_number": 45
    },
    {
     "cell_type": "code",
     "collapsed": false,
     "input": [
      "derivadas = {}\n"
     ],
     "language": "python",
     "metadata": {},
     "outputs": [],
     "prompt_number": 46
    },
    {
     "cell_type": "code",
     "collapsed": false,
     "input": [
      "derivadas[math.sin] = math.cos"
     ],
     "language": "python",
     "metadata": {},
     "outputs": [],
     "prompt_number": 47
    },
    {
     "cell_type": "code",
     "collapsed": false,
     "input": [
      "derivadas"
     ],
     "language": "python",
     "metadata": {},
     "outputs": [
      {
       "metadata": {},
       "output_type": "pyout",
       "prompt_number": 48,
       "text": [
        "{<ufunc 'sin'>: <ufunc 'cos'>}"
       ]
      }
     ],
     "prompt_number": 48
    },
    {
     "cell_type": "code",
     "collapsed": false,
     "input": [
      "i"
     ],
     "language": "python",
     "metadata": {},
     "outputs": [
      {
       "html": [
        "[-1, 1]"
       ],
       "latex": [
        "$[-1, 1]$"
       ],
       "metadata": {},
       "output_type": "pyout",
       "prompt_number": 49,
       "text": [
        "Intervalo [-1,1]"
       ]
      }
     ],
     "prompt_number": 49
    },
    {
     "cell_type": "code",
     "collapsed": false,
     "input": [
      "x"
     ],
     "language": "python",
     "metadata": {},
     "outputs": [
      {
       "metadata": {},
       "output_type": "pyout",
       "prompt_number": 50,
       "text": [
        "DifAuto([-1,1], 1)"
       ]
      }
     ],
     "prompt_number": 50
    },
    {
     "cell_type": "code",
     "collapsed": false,
     "input": [
      "x = DifAuto(1, 1)"
     ],
     "language": "python",
     "metadata": {},
     "outputs": [],
     "prompt_number": 51
    },
    {
     "cell_type": "code",
     "collapsed": false,
     "input": [
      "x.aplicar_funcion(math.sin)"
     ],
     "language": "python",
     "metadata": {},
     "outputs": [
      {
       "metadata": {},
       "output_type": "pyout",
       "prompt_number": 52,
       "text": [
        "DifAuto(0.841470984808, 0.540302305868)"
       ]
      }
     ],
     "prompt_number": 52
    },
    {
     "cell_type": "code",
     "collapsed": false,
     "input": [
      "x"
     ],
     "language": "python",
     "metadata": {},
     "outputs": [
      {
       "metadata": {},
       "output_type": "pyout",
       "prompt_number": 53,
       "text": [
        "DifAuto(1, 1)"
       ]
      }
     ],
     "prompt_number": 53
    },
    {
     "cell_type": "code",
     "collapsed": false,
     "input": [
      "x.sin()"
     ],
     "language": "python",
     "metadata": {},
     "outputs": [
      {
       "metadata": {},
       "output_type": "pyout",
       "prompt_number": 54,
       "text": [
        "DifAuto(0.841470984808, 0.540302305868)"
       ]
      }
     ],
     "prompt_number": 54
    },
    {
     "cell_type": "code",
     "collapsed": false,
     "input": [
      "x = DifAuto(Intervalo(1, 2), 1)"
     ],
     "language": "python",
     "metadata": {},
     "outputs": [],
     "prompt_number": 55
    },
    {
     "cell_type": "code",
     "collapsed": false,
     "input": [
      "x.sin()"
     ],
     "language": "python",
     "metadata": {},
     "outputs": [
      {
       "metadata": {},
       "output_type": "pyout",
       "prompt_number": 56,
       "text": [
        "DifAuto([0.841470984808,1], [-0.416146836547,0.540302305868])"
       ]
      }
     ],
     "prompt_number": 56
    },
    {
     "cell_type": "code",
     "collapsed": false,
     "input": [
      "sin"
     ],
     "language": "python",
     "metadata": {},
     "outputs": [
      {
       "metadata": {},
       "output_type": "pyout",
       "prompt_number": 57,
       "text": [
        "<function dif_auto.sin>"
       ]
      }
     ],
     "prompt_number": 57
    },
    {
     "cell_type": "code",
     "collapsed": false,
     "input": [
      "sin"
     ],
     "language": "python",
     "metadata": {},
     "outputs": [
      {
       "metadata": {},
       "output_type": "pyout",
       "prompt_number": 58,
       "text": [
        "<function dif_auto.sin>"
       ]
      }
     ],
     "prompt_number": 58
    },
    {
     "cell_type": "code",
     "collapsed": false,
     "input": [
      "x"
     ],
     "language": "python",
     "metadata": {},
     "outputs": [
      {
       "metadata": {},
       "output_type": "pyout",
       "prompt_number": 59,
       "text": [
        "DifAuto([1,2], 1)"
       ]
      }
     ],
     "prompt_number": 59
    },
    {
     "cell_type": "code",
     "collapsed": false,
     "input": [
      "x = DifAuto(1, 1)"
     ],
     "language": "python",
     "metadata": {},
     "outputs": [],
     "prompt_number": 60
    },
    {
     "cell_type": "code",
     "collapsed": false,
     "input": [
      "sin(x)"
     ],
     "language": "python",
     "metadata": {},
     "outputs": [
      {
       "metadata": {},
       "output_type": "pyout",
       "prompt_number": 61,
       "text": [
        "DifAuto(0.841470984808, 0.540302305868)"
       ]
      }
     ],
     "prompt_number": 61
    },
    {
     "cell_type": "code",
     "collapsed": false,
     "input": [
      "x = DifAuto(Intervalo(1, 2), 1)"
     ],
     "language": "python",
     "metadata": {},
     "outputs": [],
     "prompt_number": 62
    },
    {
     "cell_type": "code",
     "collapsed": false,
     "input": [
      "x"
     ],
     "language": "python",
     "metadata": {},
     "outputs": [
      {
       "metadata": {},
       "output_type": "pyout",
       "prompt_number": 63,
       "text": [
        "DifAuto([1,2], 1)"
       ]
      }
     ],
     "prompt_number": 63
    },
    {
     "cell_type": "code",
     "collapsed": false,
     "input": [
      "sin(x)"
     ],
     "language": "python",
     "metadata": {},
     "outputs": [
      {
       "metadata": {},
       "output_type": "pyout",
       "prompt_number": 64,
       "text": [
        "DifAuto([0.841470984808,1], [-0.416146836547,0.540302305868])"
       ]
      }
     ],
     "prompt_number": 64
    },
    {
     "cell_type": "code",
     "collapsed": false,
     "input": [
      "%debugt"
     ],
     "language": "python",
     "metadata": {},
     "outputs": [
      {
       "output_type": "stream",
       "stream": "stderr",
       "text": [
        "ERROR: Line magic function `%debugt` not found.\n"
       ]
      }
     ],
     "prompt_number": 65
    },
    {
     "cell_type": "code",
     "collapsed": false,
     "input": [
      "i"
     ],
     "language": "python",
     "metadata": {},
     "outputs": [
      {
       "html": [
        "[-1, 1]"
       ],
       "latex": [
        "$[-1, 1]$"
       ],
       "metadata": {},
       "output_type": "pyout",
       "prompt_number": 66,
       "text": [
        "Intervalo [-1,1]"
       ]
      }
     ],
     "prompt_number": 66
    },
    {
     "cell_type": "code",
     "collapsed": false,
     "input": [
      "sin(i)"
     ],
     "language": "python",
     "metadata": {},
     "outputs": [
      {
       "html": [
        "[-0.841470984808, 0.841470984808]"
       ],
       "latex": [
        "$[-0.841470984808, 0.841470984808]$"
       ],
       "metadata": {},
       "output_type": "pyout",
       "prompt_number": 67,
       "text": [
        "Intervalo [-0.841470984808,0.841470984808]"
       ]
      }
     ],
     "prompt_number": 67
    },
    {
     "cell_type": "code",
     "collapsed": false,
     "input": [
      "i.sin()"
     ],
     "language": "python",
     "metadata": {},
     "outputs": [
      {
       "html": [
        "[-0.841470984808, 0.841470984808]"
       ],
       "latex": [
        "$[-0.841470984808, 0.841470984808]$"
       ],
       "metadata": {},
       "output_type": "pyout",
       "prompt_number": 68,
       "text": [
        "Intervalo [-0.841470984808,0.841470984808]"
       ]
      }
     ],
     "prompt_number": 68
    },
    {
     "cell_type": "code",
     "collapsed": false,
     "input": [
      "i"
     ],
     "language": "python",
     "metadata": {},
     "outputs": [
      {
       "html": [
        "[-1, 1]"
       ],
       "latex": [
        "$[-1, 1]$"
       ],
       "metadata": {},
       "output_type": "pyout",
       "prompt_number": 69,
       "text": [
        "Intervalo [-1,1]"
       ]
      }
     ],
     "prompt_number": 69
    },
    {
     "cell_type": "code",
     "collapsed": false,
     "input": [
      "i.sin()"
     ],
     "language": "python",
     "metadata": {},
     "outputs": [
      {
       "html": [
        "[-0.841470984808, 0.841470984808]"
       ],
       "latex": [
        "$[-0.841470984808, 0.841470984808]$"
       ],
       "metadata": {},
       "output_type": "pyout",
       "prompt_number": 70,
       "text": [
        "Intervalo [-0.841470984808,0.841470984808]"
       ]
      }
     ],
     "prompt_number": 70
    },
    {
     "cell_type": "code",
     "collapsed": false,
     "input": [
      "math.pi"
     ],
     "language": "python",
     "metadata": {},
     "outputs": [
      {
       "latex": [
        "$$3.14159265359$$"
       ],
       "metadata": {},
       "output_type": "pyout",
       "png": "[encoded data removed]",
       "prompt_number": 71,
       "text": [
        "3.14159265359"
       ]
      }
     ],
     "prompt_number": 71
    },
    {
     "cell_type": "code",
     "collapsed": false,
     "input": [
      "(i - math.pi/2).cos()"
     ],
     "language": "python",
     "metadata": {},
     "outputs": [
      {
       "html": [
        "[-0.841470984808, 0.841470984808]"
       ],
       "latex": [
        "$[-0.841470984808, 0.841470984808]$"
       ],
       "metadata": {},
       "output_type": "pyout",
       "prompt_number": 72,
       "text": [
        "Intervalo [-0.841470984808,0.841470984808]"
       ]
      }
     ],
     "prompt_number": 72
    },
    {
     "cell_type": "code",
     "collapsed": false,
     "input": [
      "i"
     ],
     "language": "python",
     "metadata": {},
     "outputs": [
      {
       "html": [
        "[-1, 1]"
       ],
       "latex": [
        "$[-1, 1]$"
       ],
       "metadata": {},
       "output_type": "pyout",
       "prompt_number": 73,
       "text": [
        "Intervalo [-1,1]"
       ]
      }
     ],
     "prompt_number": 73
    },
    {
     "cell_type": "code",
     "collapsed": false,
     "input": [
      "sin(i)"
     ],
     "language": "python",
     "metadata": {},
     "outputs": [
      {
       "html": [
        "[-0.841470984808, 0.841470984808]"
       ],
       "latex": [
        "$[-0.841470984808, 0.841470984808]$"
       ],
       "metadata": {},
       "output_type": "pyout",
       "prompt_number": 74,
       "text": [
        "Intervalo [-0.841470984808,0.841470984808]"
       ]
      }
     ],
     "prompt_number": 74
    },
    {
     "cell_type": "code",
     "collapsed": false,
     "input": [
      "x"
     ],
     "language": "python",
     "metadata": {},
     "outputs": [
      {
       "metadata": {},
       "output_type": "pyout",
       "prompt_number": 75,
       "text": [
        "DifAuto([1,2], 1)"
       ]
      }
     ],
     "prompt_number": 75
    },
    {
     "cell_type": "code",
     "collapsed": false,
     "input": [
      "sin(x)"
     ],
     "language": "python",
     "metadata": {},
     "outputs": [
      {
       "metadata": {},
       "output_type": "pyout",
       "prompt_number": 76,
       "text": [
        "DifAuto([0.841470984808,1], [-0.416146836547,0.540302305868])"
       ]
      }
     ],
     "prompt_number": 76
    },
    {
     "cell_type": "code",
     "collapsed": false,
     "input": [
      "s = \"hola_%d.dat\""
     ],
     "language": "python",
     "metadata": {},
     "outputs": [],
     "prompt_number": 77
    },
    {
     "cell_type": "code",
     "collapsed": false,
     "input": [
      "s"
     ],
     "language": "python",
     "metadata": {},
     "outputs": [
      {
       "metadata": {},
       "output_type": "pyout",
       "prompt_number": 78,
       "text": [
        "'hola_%d.dat'"
       ]
      }
     ],
     "prompt_number": 78
    },
    {
     "cell_type": "code",
     "collapsed": false,
     "input": [
      "s % 10"
     ],
     "language": "python",
     "metadata": {},
     "outputs": [
      {
       "metadata": {},
       "output_type": "pyout",
       "prompt_number": 79,
       "text": [
        "'hola_10.dat'"
       ]
      }
     ],
     "prompt_number": 79
    },
    {
     "cell_type": "code",
     "collapsed": false,
     "input": [
      "L = 10\n",
      "N = 100"
     ],
     "language": "python",
     "metadata": {},
     "outputs": [],
     "prompt_number": 83
    },
    {
     "cell_type": "code",
     "collapsed": false,
     "input": [
      "s = \"hola_L%d_N%d.dat\" % (L, N)\n",
      "s"
     ],
     "language": "python",
     "metadata": {},
     "outputs": [
      {
       "metadata": {},
       "output_type": "pyout",
       "prompt_number": 84,
       "text": [
        "'hola_L10_N100.dat'"
       ]
      }
     ],
     "prompt_number": 84
    },
    {
     "cell_type": "code",
     "collapsed": false,
     "input": [],
     "language": "python",
     "metadata": {},
     "outputs": []
    }
   ],
   "metadata": {}
  }
 ]
}