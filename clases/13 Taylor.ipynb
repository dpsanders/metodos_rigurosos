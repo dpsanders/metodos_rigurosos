{
 "metadata": {
  "name": ""
 },
 "nbformat": 3,
 "nbformat_minor": 0,
 "worksheets": [
  {
   "cells": [
    {
     "cell_type": "heading",
     "level": 1,
     "metadata": {},
     "source": [
      "Taylor"
     ]
    },
    {
     "cell_type": "markdown",
     "metadata": {},
     "source": [
      "Hasta ahora, hemos visto c\u00f3mo hacer diferenciaci\u00f3n autom\u00e1tica para calcular s\u00f3lo la primera derivada. \u00bfC\u00f3mo se puede extender esto a derivadas de orden superior?"
     ]
    },
    {
     "cell_type": "markdown",
     "metadata": {},
     "source": [
      "Definimos una aritm\u00e9tica nueva de \"jets\", o sea, vectores de la forma $\\mathbf{u} = (u, u')$, donde $u = u(a)$ y $u' = u'(a)$ son los valores de una funci\u00f3n $u: \\mathbb{R} \\to \\mathbb{R}$ y su derivada, evaluadas en un punto $a \\in \\mathbb{R}$."
     ]
    },
    {
     "cell_type": "markdown",
     "metadata": {},
     "source": [
      "Pero esto no se extiende f\u00e1cilmente a derivadas de orden superior."
     ]
    },
    {
     "cell_type": "markdown",
     "metadata": {},
     "source": [
      "La soluci\u00f3n es el utilizar un polinomio de Taylor:\n",
      "$$f(x) = f(a) + f'(a) (x-a) + \\frac{f^{(2)} (a)}{2!} (x-a)^2 +  \\frac{f^{(3)} (a)}{3!} (x-a)^3 + \\cdots +  \\frac{f^{(n)} (a)}{n!} (x-a)^n + \\cdots$$"
     ]
    },
    {
     "cell_type": "markdown",
     "metadata": {},
     "source": [
      "Esto corresponde directamente a la tupla \n",
      "$$\\textstyle (f(a), f'(a), \\frac{f^{(2)} (a)}{2!} , \\frac{f^{(3)} (a)}{3!}, \\ldots) =: (f_1(a), f_2(a), f_3(a), \\ldots f_n(a)$$,\n",
      "donde hemos introducido la notaci\u00f3n $f_k(a) := \\frac{f^{(k)} (a)}{k!}$"
     ]
    },
    {
     "cell_type": "markdown",
     "metadata": {},
     "source": [
      "Entonces podemos definir una aritm\u00e9tica nueva, ahora de expansiones (polinomios) de Taylor:"
     ]
    },
    {
     "cell_type": "markdown",
     "metadata": {},
     "source": [
      "$$ (\\mathbf{f} + \\mathbf{g})_k := f_k \\pm g_k $$"
     ]
    },
    {
     "cell_type": "markdown",
     "metadata": {},
     "source": [
      "$$ (\\mathbf{f} \\cdot \\mathbf{g})_k := \\sum_{i=0}^k f_i \\, g_{k-i} $$"
     ]
    },
    {
     "cell_type": "markdown",
     "metadata": {},
     "source": [
      "Para calcular $\\mathbf{h} := \\mathbf{f}\\, / \\, \\mathbf{g}$, usamos $\\mathbf{f} = \\mathbf{h} \\cdot \\mathbf{g}$.\n",
      "Por lo tanto,\n",
      "$$f_k = \\sum_{i=0}^k h_i \\, g_{k-i} = \\sum_{i=0}^{k-1} h_i g_{k-i} + h_k g_0$$\n",
      "y entonces\n",
      "$$h_k = \\frac{1}{g_0} \\left[ f_k - \\sum_{i=0}^{k-1} h_i g_{k-i}. \\right]$$\n",
      "Nota que esto da una relaci\u00f3n *recursiva* para $h_k$ en t\u00e9rminos de las $h_i$ con $i<k$ que ya est\u00e1n calculadas."
     ]
    },
    {
     "cell_type": "markdown",
     "metadata": {},
     "source": [
      "Siempre vamos a truncar los polinomios a un orden dado."
     ]
    },
    {
     "cell_type": "markdown",
     "metadata": {},
     "source": [
      "Una constante se trata as\u00ed:\n",
      "$$c = c + 0.(x-a) + 0.(x-a)^2 + \\cdots \\Longrightarrow (c, 0, 0, \\ldots)$$\n",
      "\n",
      "y la variable independiente as\u00ed:\n",
      "$$x = a + 1.(x-a) + 0.(x-a)^2 + \\cdots \\Longrightarrow (a, 1, 0, \\ldots)$$"
     ]
    },
    {
     "cell_type": "heading",
     "level": 2,
     "metadata": {},
     "source": [
      "Funciones"
     ]
    },
    {
     "cell_type": "markdown",
     "metadata": {},
     "source": [
      "\u00bfC\u00f3mo manejamos funciones, por ejemplo $h(x) := \\exp g(x)$?\n"
     ]
    },
    {
     "cell_type": "markdown",
     "metadata": {},
     "source": [
      "$$\\mathbf{g} = (g_0, g_1, \\ldots, g_n)$$  representa el polinomio de Taylor de $g(x)$ alrededor de $x=a$"
     ]
    },
    {
     "cell_type": "markdown",
     "metadata": {},
     "source": [
      "Usamos\n",
      "$$\\frac{d (\\exp [g(x)])}{dx} = g'(x) \\exp [g(x)]$$"
     ]
    },
    {
     "cell_type": "markdown",
     "metadata": {},
     "source": [
      "Sea $h(x) = \\sum_{i=0}^\\infty h_i (x-a)^i$"
     ]
    },
    {
     "cell_type": "markdown",
     "metadata": {},
     "source": [
      "$$\\frac{d (\\exp [g(x)])}{dx} = \\frac{dh(x)}{dx} = h'(x) = \\sum_{i=1}^\\infty i \\, h_i \\, (x-a)^{i-1}$$"
     ]
    },
    {
     "cell_type": "markdown",
     "metadata": {},
     "source": [
      "Por lo tanto,\n",
      "\\begin{align}\n",
      "g'(x) \\exp[g(x)] &= \\left( \\sum_{i=1}^\\infty i \\, g_i \\, (x-a)^{i-1}\\right) \\left( \\sum_{j=0}^\\infty h_j (x-a)^j \\right) \\\\\n",
      "&= \\left( \\sum_{\\ell=0}^\\infty (\\ell+1) \\, g_{\\ell+1} \\, (x-a)^\\ell \\right) \\left( \\sum_{j=0}^\\infty h_j (x-a)^j \\right) \\\\\n",
      "=& \\sum_{k=0}^\\infty \\left( \\sum_{i=0}^k (i+1) g_{i+1} h_{k-i} \\right) (x-a)^k\n",
      "\\end{align}\n",
      "\n",
      "\n"
     ]
    },
    {
     "cell_type": "markdown",
     "metadata": {},
     "source": [
      "Y entonces\n",
      "$$(k+1) \\, h_{k+1} = \\sum_{i=0}^k (i+1) g_{i+1}h_{k-i} = \\sum_{i=1}^k i g_i h_{k-i}??$$"
     ]
    },
    {
     "cell_type": "markdown",
     "metadata": {},
     "source": [
      "Finalmente, se llega a\n",
      "$$h_0 = \\exp(g_0)$$\n",
      "$$h_k = \\frac{1}{k} \\sum_{i=0}^{k-1} (k-i) g_{k-i} h_i$$\n"
     ]
    },
    {
     "cell_type": "markdown",
     "metadata": {},
     "source": [
      "De manera similar, tenemos\n",
      "$$\\log (g(x)) =: \\sum_{k=0} \\ell_k (x-a)^k$$\n",
      "con\n",
      "$$\\ell_k = \\frac{1}{g_0} \\left[ g_k - \\sum_{i=0}^{k-1} (k-i) g_{k-i} \\ell_i \\right]$$"
     ]
    },
    {
     "cell_type": "markdown",
     "metadata": {},
     "source": [
      "Para potencias:\n",
      "$$p(x) = [g(x)]^\\alpha \\qquad (\\alpha \\neq 0) = \\sum_{k=0} p_k (x-a)^k$$\n",
      "\n",
      "$$p_k = \\frac{1}{k g_0} \\sum_{i=0}^{k-1} [k \\alpha - i(\\alpha+1)] g_{k-i} p_i$$\n"
     ]
    },
    {
     "cell_type": "markdown",
     "metadata": {},
     "source": [
      "N\u00f3tese que para ciertos valores de $\\alpha$, e.g. $\\alpha=2$, conviene optimizar esto."
     ]
    },
    {
     "cell_type": "markdown",
     "metadata": {},
     "source": [
      "Para $\\sin$ y $\\cos$, tenemos\n",
      "$$\\sin(g(x)) =: \\sum_{k=0} s_k (x-a)^k$$\n",
      "$$\\cos(g(x)) =: \\sum_{k=0} c_k (x-a)^k$$\n",
      "\n",
      "con\n",
      "$$s_k = \\frac{1}{k} \\sum_{i=1}^k i c_{k-i} g_i$$\n",
      "$$c_k = -\\frac{1}{k} \\sum_{i=1}^k i s_{k-i} g_i$$\n",
      "\n",
      "ya que\n",
      "$$\\frac{d}{dx} \\sin(g(x)) = \\cos(g(x)) \\cdot g'(x)$$\n",
      "$$\\frac{d}{dx} \\cos(g(x)) = -\\sin(g(x)) \\cdot g'(x)$$\n",
      "(Comparar el oscilador arm\u00f3nico.)"
     ]
    },
    {
     "cell_type": "markdown",
     "metadata": {},
     "source": [
      "La dependencia sobre $a$ es impl\u00edcito en la expresi\u00f3n $x=a + (x-a)$:\n",
      "\n",
      "Alrededor de $0$:\n",
      "\n",
      "$$f(x) = x^2$$\n",
      "\n",
      "$$f'(x) = 2x \\quad f'(0) = 0$$\n",
      "$$f''(x) = 2 \\quad f''(0) = 2$$\n",
      "\n",
      "$$(0, 0, 1, 0, \\ldots)_0$$\n",
      "\n",
      "Alrededor de $a$:\n",
      "$$x = a + 1\\cdot(x-a)$$\n",
      "$$x^2 = (a + (x-a))^2 = a^2 + 2a (x-a) + (x-a)^2$$\n",
      "$$(a^2, 2a, 1, 0, \\ldots)_a$$\n",
      "\n",
      "\n",
      "\n"
     ]
    },
    {
     "cell_type": "markdown",
     "metadata": {},
     "source": [
      "\n",
      "Esto lleva al m\u00e9todo de Taylor para integrar, pudiendo variar el orden del polinomio y la precisi\u00f3n:\n",
      "$$f(x) = f_0 + f_1(x-a) + \\cdots + f_n (x-a)^n + C f_{n+1} (x-a)^{n+1}$$\n",
      "Si acotamos $C f_{n+1}$ con un intervalo, tenemos cotas para la funci\u00f3n completa.\n"
     ]
    },
    {
     "cell_type": "code",
     "collapsed": false,
     "input": [],
     "language": "python",
     "metadata": {},
     "outputs": []
    }
   ],
   "metadata": {}
  }
 ]
}