{
 "metadata": {
  "name": ""
 },
 "nbformat": 3,
 "nbformat_minor": 0,
 "worksheets": [
  {
   "cells": [
    {
     "cell_type": "markdown",
     "metadata": {},
     "source": [
      "Queremos calcular\n",
      "$$I := \\int_a^b f(x) dx$$\n",
      "Dividimos $[a,b]$ en subintervalos $[x_i, x_{i+1}]$ y aproximamos\n",
      "\n",
      "$$I \\simeq \\sum_{i=1}^{n-1} h \\int_{x_i}^{x_{i+1}} f(x) dx$$\n",
      "es decir, aproximamos *localmente* la funci\u00f3n."
     ]
    },
    {
     "cell_type": "markdown",
     "metadata": {},
     "source": [
      "Una primera aproximaci\u00f3n es \n",
      "$$\\tilde{I} = \\sum_i h F([x_i]).$$\n",
      "N\u00f3tese que esta f\u00f3rmula involucra *intervalos*. $F([x_i])$ da una cota inferior y una superior para el intervalo, y al sumar estos intervalos,\n",
      " $\\tilde{I}$ resulta ser *un intervalo* que contiene el valor exacto de la integral:\n",
      "$$I \\in \\sum_i h F([x_i]):$$\n",
      "$$\\sum_i \\underline{F([x_i])} \\le I \\le \\sum_i \\overline{F([x_i])}.$$\n",
      "\n",
      "Desgraciadamente, esto converge muy lentamente, de orden $1/N$, cuando incrementamos el n\u00famero de subintervalos.\n",
      "\n"
     ]
    },
    {
     "cell_type": "markdown",
     "metadata": {},
     "source": [
      "Para mejorar el rendimiento, usamos m\u00e9todos de Taylor:\n"
     ]
    },
    {
     "cell_type": "markdown",
     "metadata": {},
     "source": [
      "$$f(x) = \\sum_{i=0}^n f_i(a) (x-a)^i + f_{n+1}(\\zeta) (x-a)^{n+1},$$\n",
      "para alguna $\\zeta \\in [x]$.\n",
      "\n",
      "Luego usamos el enclosure $f_{n+1}(\\zeta) \\in F_{n+1}([x])$ para dar un enclosure de $f(x)$ en el intervalo."
     ]
    },
    {
     "cell_type": "markdown",
     "metadata": {},
     "source": [
      "El orden del error si usamos un polinomio de Taylor de orden $n$ es $h^n$."
     ]
    },
    {
     "cell_type": "markdown",
     "metadata": {},
     "source": [
      "Aproximemos $f(x)$ en un intervalo $[x]$ con $\\hat{x} := \\mathrm{mid}([x])$:"
     ]
    },
    {
     "cell_type": "markdown",
     "metadata": {},
     "source": [
      "$$f(x) = \\sum_{k=0}^{n-1} f_k(\\hat{x}) (x-\\hat{x})^k + f_n(\\zeta) (x-\\hat{x})^n$$\n",
      "\n",
      "con $\\zeta \\in [x]$\n",
      "\n",
      "Por lo tanto, \n",
      "$$f(x) \\in \\sum_{k=0}^{n-1} f_k(\\hat{x}) (x-\\hat{x})^k + F_n([x]) (x-\\hat{x})^n$$\n",
      "\n",
      "Pongamos \n",
      "$$\\epsilon_n := \\mathrm{mag}(F_n([x]) - f_n(\\hat{x})) = \\max\\{ \\underline{\\cdots}, \\overline{\\cdots} \\}$$\n",
      "\n",
      "Por lo tanto,\n",
      "$$f(x) \\in \\sum_{k=0}^n f_k(\\hat{x}) (x-\\hat{x})^k + \\epsilon_n [-1, 1] |x-\\hat{x}|^n$$\n",
      "para toda $x \\in [x]$.\n",
      "\n",
      "[N\u00f3tese que cambiamos de $n-1$ a $n$ en la suma, al incorporar parte del \u00faltimo t\u00e9rmino.]"
     ]
    },
    {
     "cell_type": "markdown",
     "metadata": {},
     "source": [
      "Por lo tanto,\n",
      "$$I = \\int_{\\hat{x} - r}^{\\hat{x} + r} f(x) \\, dx\\in \\int_{\\hat{x} - r}^{\\hat{x} + r} \n",
      "\\sum_{k=0}^n f_k(\\hat{x}) \\, (x-\\hat{x})^k dx + \\int_{\\hat{x} - r}^{\\hat{x} + r} \\epsilon_n [-1, 1] \\, |x - \\hat{x}|^n \\, dx$$\n"
     ]
    },
    {
     "cell_type": "markdown",
     "metadata": {},
     "source": [
      "En el \u00faltimo t\u00e9rmino, estamos integrando una potencia, por lo que desvanecen los t\u00e9rminos con $n$ impar. Por lo tanto,\n",
      "$$=2 \\left[ \\sum_{k=0}^{\\lfloor n/2 \\rfloor} f_{2k}(\\hat{x}) \\frac{r^{2k+1}}{2k+1} + \\epsilon_n [-1, 1] \\frac{r^{n+1}}{n+1} \\right]$$"
     ]
    },
    {
     "cell_type": "code",
     "collapsed": false,
     "input": [],
     "language": "python",
     "metadata": {},
     "outputs": []
    }
   ],
   "metadata": {}
  }
 ]
}