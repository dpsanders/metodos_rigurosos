{
 "metadata": {
  "name": ""
 },
 "nbformat": 3,
 "nbformat_minor": 0,
 "worksheets": [
  {
   "cells": [
    {
     "cell_type": "markdown",
     "metadata": {},
     "source": [
      "Queremos resolver ecuaciones diferenciales ordinarias\n",
      "$$\\dot{x} = f(x) \\qquad \\text{ con } \\quad x(t_0)=x_0$$"
     ]
    },
    {
     "cell_type": "markdown",
     "metadata": {},
     "source": [
      "Se puede pensar en t\u00e9rminos de *flujos* $\\phi(x,t)$, la soluci\u00f3n con condici\u00f3n inicial $x$ al tiempo $t$ se puede escribir como\n",
      "\n",
      "$$\\phi(x_0, t) = x_0 + \\int_{t_0}^t f(\\phi(x_0, s), s) \\, ds.$$\n",
      "\n",
      "(Cf. iteraciones de Picard)\n",
      "\n",
      "y la ecuaci\u00f3n se vuelve\n",
      "\n",
      "$$\\frac{\\partial}{\\partial t} \\phi(x, t) = f(\\phi(x, t), t)$$.\n"
     ]
    },
    {
     "cell_type": "markdown",
     "metadata": {},
     "source": [
      "Consideremos la ecuaci\u00f3n aut\u00f3noma\n",
      "$$\\dot{x}(t) =f(x(t)); \\qquad x(0) = x_0$$"
     ]
    },
    {
     "cell_type": "markdown",
     "metadata": {},
     "source": [
      "Desarrollemos \n",
      "$$x(t) = x_0 + x_1 \\, t + x_t \\, t^2 + \\cdots x_p t^p + x_{p+1} \\, t^{p+1}$$\n",
      "\n",
      "y tambi\u00e9n\n",
      "$$f(x(t)) = (f \\circ x)(t) = f_0 + f_1 \\, t + f_2 \\, t^2 + \\cdots f_p \\, t^p$$\n",
      "\n",
      "(N\u00f3tese que se desarrolla como funci\u00f3n *en $t$*.\n",
      "Por lo tanto,\n",
      "$$\\dot{x}(t) = x_1 + 2 x_2 \\, t + 3 x_3 \\, t^2 + \\cdots + (p+1) \\, x_{p+1} \\, t^p$$\n",
      "\n",
      "Igualando, tenemos\n",
      "$$x_1 = f_0\\\\\n",
      "x_2 = \\frac{f_1}{2}\\\\\n",
      "\\cdots \\\\\n",
      "x_{k+1} = \\frac{f_k}{k+1}\n",
      "$$"
     ]
    },
    {
     "cell_type": "markdown",
     "metadata": {},
     "source": [
      "Queremos acotar el error que cometemos en la expansi\u00f3n de $x(t)$.\n",
      "Si $|x_p \\, t^p| \\sim \\epsilon$, entonces \n",
      "$t \\simeq \\left( \\frac{\\epsilon}{|x_p|} \\right)^{1/p}$"
     ]
    },
    {
     "cell_type": "markdown",
     "metadata": {},
     "source": [
      "As\u00ed, empezando desde el valor $x_0$ al tiempo $t=0$, construimos el valor nuevo $x(t)$ a un tiempo $t$, con cierta tolerancia."
     ]
    },
    {
     "cell_type": "markdown",
     "metadata": {},
     "source": [
      "N\u00f3tese que *no* se conocen a priori las $f_k$; se van construyendo de manera *recursiva*: por ejemplo, para calcular $f_1$, se calcula la expansi\u00f3n en serie de Taylor en $t$ de $f(x_0 + x_1 t)$ ya que necesitamos\n",
      "$$\\frac{d}{dt} f(x(t))|_{t=0} = \\frac{d}{dt} f(x_0 + x_1 t + x_2 t^2 + \\cdots)|_{t=0} = \\frac{d}{dt} [f(x_0 + x_1 t)]|_{t=0} = f'(x_0) . x_1 \n",
      "= f'(x_0)  \\frac{d}{dt} x(t)|_{t=0}$$"
     ]
    },
    {
     "cell_type": "markdown",
     "metadata": {},
     "source": [
      "N\u00f3tese que se escoge el timestep *despu\u00e9s* de encontrar la expansi\u00f3n en Taylor, para que se satisfaga la condici\u00f3n sobre el error (local)."
     ]
    },
    {
     "cell_type": "code",
     "collapsed": false,
     "input": [],
     "language": "python",
     "metadata": {},
     "outputs": []
    }
   ],
   "metadata": {}
  }
 ]
}